{
  "nbformat": 4,
  "nbformat_minor": 0,
  "metadata": {
    "colab": {
      "private_outputs": true,
      "provenance": [],
      "authorship_tag": "ABX9TyO2Qw3N85gvUsc70GXLHeoD",
      "include_colab_link": true
    },
    "kernelspec": {
      "name": "python3",
      "display_name": "Python 3"
    },
    "language_info": {
      "name": "python"
    }
  },
  "cells": [
    {
      "cell_type": "markdown",
      "metadata": {
        "id": "view-in-github",
        "colab_type": "text"
      },
      "source": [
        "<a href=\"https://colab.research.google.com/github/WellcomePeujio/Toma-de-Decisiones-de-Inversion-en-el-Mercado-de-Criptomonedas-Finanzas-Personales-y-Riesgo-/blob/main/Toma_de_Decisiones_de_Inversi%C3%B3n_en_el_Mercado_de_Criptomonedas_.ipynb\" target=\"_parent\"><img src=\"https://colab.research.google.com/assets/colab-badge.svg\" alt=\"Open In Colab\"/></a>"
      ]
    },
    {
      "cell_type": "markdown",
      "source": [
        "# Toma de Decisiones de Inversión en el Mercado de Criptomonedas (Finanzas Personales y Riesgo)\n",
        "\n",
        "**Problema**: Un inversor quiere asignar $50,000 entre dos criptomonedas, Bitcoin y Ethereum. La volatilidad anual es del 50% para Bitcoin y del 40% para Ethereum, con una correlación de 0.6 entre ambas. El rendimiento esperado es del 15% para Bitcoin y del 10% para Ethereum.\n",
        "\n",
        "**Preguntas**:\n",
        "\n",
        "1. Calcula el riesgo total del portafolio si el inversor asigna el 70% a Bitcoin y el 30% a Ethereum.\n",
        "2. Discute la viabilidad de esta inversión en función del riesgo y el rendimiento esperado.\n"
      ],
      "metadata": {
        "id": "H2woGwtO629X"
      }
    },
    {
      "cell_type": "markdown",
      "source": [
        "# Resolución de la Toma de Decisiones de Inversión en el Mercado de Criptomonedas\n",
        "\n",
        "## Paso 1: Datos y Fórmulas Básicas\n",
        "\n",
        "El inversor asigna el 70% de los $50,000 a Bitcoin y el 30% a Ethereum. Para calcular el riesgo total del portafolio, necesitamos:\n",
        "\n",
        "- Volatilidad de Bitcoin $(\\sigma_B) = 50\\% = 0.50$\n",
        "- Volatilidad de Ethereum $(\\sigma_E) = 40\\% = 0.40$\n",
        "- Correlación entre Bitcoin y Ethereum $(\\rho_{B,E}) = 0.6$\n",
        "- Rendimientos esperados: Bitcoin $(R_B) = 15\\% = 0.15$, Ethereum $(R_E) = 10\\% = 0.10$\n",
        "- Pesos de inversión: Bitcoin $(w_B) = 0.7$, Ethereum $(w_E) = 0.3$\n",
        "\n",
        "La fórmula para el riesgo total $(\\sigma_P)$ del portafolio es:\n",
        "\n",
        "$$\n",
        "\\sigma_P = \\sqrt{(w_B \\cdot \\sigma_B)^2 + (w_E \\cdot \\sigma_E)^2 + 2 \\cdot w_B \\cdot w_E \\cdot \\sigma_B \\cdot \\sigma_E \\cdot \\rho_{B,E}}\n",
        "$$\n",
        "\n",
        "## Paso 2: Cálculo del Riesgo Total del Portafolio\n",
        "\n",
        "Sustituyendo los valores:\n",
        "\n",
        "1. Calculamos cada componente de la fórmula:\n",
        "\n",
        "   - $(w_B \\cdot \\sigma_B)^2 = (0.7 \\cdot 0.5)^2 = 0.1225$\n",
        "   - $(w_E \\cdot \\sigma_E)^2 = (0.3 \\cdot 0.4)^2 = 0.0144$\n",
        "   - $2 \\cdot w_B \\cdot w_E \\cdot \\sigma_B \\cdot \\sigma_E \\cdot \\rho_{B,E} = 2 \\cdot 0.7 \\cdot 0.3 \\cdot 0.5 \\cdot 0.4 \\cdot 0.6 = 0.084$\n",
        "\n",
        "2. Sumamos estos valores y calculamos la raíz cuadrada:\n",
        "\n",
        "   $$\n",
        "   \\sigma_P = \\sqrt{0.1225 + 0.0144 + 0.084} = \\sqrt{0.2209} \\approx 0.47\n",
        "   $$\n",
        "\n",
        "Por lo tanto, el riesgo total del portafolio es aproximadamente **47%**.\n",
        "\n",
        "## Paso 3: Cálculo del Rendimiento Esperado del Portafolio\n",
        "\n",
        "El rendimiento esperado $(R_P)$ del portafolio es:\n",
        "\n",
        "$$\n",
        "R_P = w_B \\cdot R_B + w_E \\cdot R_E\n",
        "$$\n",
        "\n",
        "Sustituyendo los valores:\n",
        "\n",
        "$$\n",
        "R_P = 0.7 \\cdot 0.15 + 0.3 \\cdot 0.10 = 0.105 + 0.03 = 0.135\n",
        "$$\n",
        "\n",
        "El rendimiento esperado del portafolio es **13.5%**.\n",
        "\n",
        "## Paso 4: Discusión sobre la Viabilidad de la Inversión\n",
        "\n",
        "En este escenario, el portafolio tiene un rendimiento esperado del **13.5%** con un riesgo del **47%**. La viabilidad de esta inversión depende de la tolerancia al riesgo del inversor. Dado el alto nivel de volatilidad, esta asignación puede ser adecuada solo para inversores con una alta tolerancia al riesgo y una visión de largo plazo en el mercado de criptomonedas.\n"
      ],
      "metadata": {
        "id": "zxaqGTte65c1"
      }
    },
    {
      "cell_type": "code",
      "source": [
        "import numpy as np\n",
        "import matplotlib.pyplot as plt\n",
        "\n",
        "# Datos del problema\n",
        "w_bitcoin = 0.7  # Peso de Bitcoin en el portafolio\n",
        "w_ethereum = 0.3  # Peso de Ethereum en el portafolio\n",
        "vol_bitcoin = 0.5  # Volatilidad de Bitcoin (50%)\n",
        "vol_ethereum = 0.4  # Volatilidad de Ethereum (40%)\n",
        "correlacion = 0.6  # Correlación entre Bitcoin y Ethereum\n",
        "\n",
        "# Calcular el riesgo total del portafolio\n",
        "riesgo_portafolio = np.sqrt((w_bitcoin * vol_bitcoin) ** 2 +\n",
        "                            (w_ethereum * vol_ethereum) ** 2 +\n",
        "                            2 * w_bitcoin * w_ethereum * vol_bitcoin * vol_ethereum * correlacion)\n",
        "\n",
        "# Rendimiento esperado del portafolio\n",
        "rendimiento_bitcoin = 0.15  # Rendimiento esperado de Bitcoin (15%)\n",
        "rendimiento_ethereum = 0.10  # Rendimiento esperado de Ethereum (10%)\n",
        "rendimiento_portafolio = w_bitcoin * rendimiento_bitcoin + w_ethereum * rendimiento_ethereum\n",
        "\n",
        "# Gráfico de la relación entre riesgo y rendimiento para distintos pesos de Bitcoin\n",
        "pesos_bitcoin = np.linspace(0, 1, 100)\n",
        "riesgos = np.sqrt((pesos_bitcoin * vol_bitcoin) ** 2 +\n",
        "                  ((1 - pesos_bitcoin) * vol_ethereum) ** 2 +\n",
        "                  2 * pesos_bitcoin * (1 - pesos_bitcoin) * vol_bitcoin * vol_ethereum * correlacion)\n",
        "rendimientos = pesos_bitcoin * rendimiento_bitcoin + (1 - pesos_bitcoin) * rendimiento_ethereum\n",
        "\n",
        "# Crear la gráfica\n",
        "plt.figure(figsize=(10, 6))\n",
        "plt.plot(riesgos, rendimientos, label=\"Frontera de Riesgo-Rendimiento\", color=\"blue\")\n",
        "plt.scatter(riesgo_portafolio, rendimiento_portafolio, color=\"red\", label=f\"Portafolio (70% Bitcoin, 30% Ethereum)\", zorder=5)\n",
        "plt.xlabel(\"Riesgo (Volatilidad)\")\n",
        "plt.ylabel(\"Rendimiento Esperado\")\n",
        "plt.title(\"Relación Riesgo-Rendimiento del Portafolio de Criptomonedas\")\n",
        "plt.legend()\n",
        "plt.grid(True)\n",
        "plt.show()"
      ],
      "metadata": {
        "id": "GQ7lPH-l7pBK"
      },
      "execution_count": null,
      "outputs": []
    }
  ]
}